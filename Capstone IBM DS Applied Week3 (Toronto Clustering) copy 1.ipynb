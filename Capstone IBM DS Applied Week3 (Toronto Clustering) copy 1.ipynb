{
    "nbformat_minor": 1, 
    "cells": [
        {
            "source": "## <i><u> Proceed to Part 2 for looking merging Data and coordinats on PostCodes </u></i>", 
            "cell_type": "markdown", 
            "metadata": {}
        }, 
        {
            "source": "# Part 1. Grabing the Table from html to DataFrame object, parsing and wrangling", 
            "cell_type": "markdown", 
            "metadata": {}
        }, 
        {
            "source": "## <i><u> Proceed to Part 2 for looking merging Data and coordinats on PostCodes </u></i>", 
            "cell_type": "markdown", 
            "metadata": {}
        }, 
        {
            "source": "## 1. Installation and Import of libraries", 
            "cell_type": "markdown", 
            "metadata": {}
        }, 
        {
            "source": "import random # library for random number generation\nimport requests # library to handle requests\nimport numpy as np # library for vectorized computation\nimport pandas as pd # library to process data as dataframes\n\nimport matplotlib.pyplot as plt # plotting library\n# backend for rendering plots within the browser\n%matplotlib inline \n\nfrom sklearn.cluster import KMeans \nfrom sklearn.datasets.samples_generator import make_blobs\n\nprint('Libraries imported.')", 
            "cell_type": "code", 
            "metadata": {}, 
            "outputs": [
                {
                    "output_type": "stream", 
                    "name": "stdout", 
                    "text": "Libraries imported.\n"
                }
            ], 
            "execution_count": 15
        }, 
        {
            "source": "!conda install -c conda-forge beautifulsoup4 --yes", 
            "cell_type": "code", 
            "metadata": {}, 
            "outputs": [
                {
                    "output_type": "stream", 
                    "name": "stdout", 
                    "text": "Solving environment: done\n\n## Package Plan ##\n\n  environment location: /opt/conda/envs/DSX-Python35\n\n  added / updated specs: \n    - beautifulsoup4\n\n\nThe following packages will be downloaded:\n\n    package                    |            build\n    ---------------------------|-----------------\n    beautifulsoup4-4.6.3       |           py35_0         139 KB  conda-forge\n    certifi-2018.8.24          |        py35_1001         139 KB  conda-forge\n    openssl-1.0.2r             |       h14c3975_0         3.1 MB  conda-forge\n    ca-certificates-2019.3.9   |       hecc5488_0         146 KB  conda-forge\n    ------------------------------------------------------------\n                                           Total:         3.6 MB\n\nThe following packages will be UPDATED:\n\n    beautifulsoup4:  4.6.0-py35h442a8c9_1 --> 4.6.3-py35_0        conda-forge\n    ca-certificates: 2019.1.23-0          --> 2019.3.9-hecc5488_0 conda-forge\n    certifi:         2018.8.24-py35_1     --> 2018.8.24-py35_1001 conda-forge\n    openssl:         1.0.2r-h7b6447c_0    --> 1.0.2r-h14c3975_0   conda-forge\n\n\nDownloading and Extracting Packages\nbeautifulsoup4-4.6.3 | 139 KB    | ##################################### | 100% \ncertifi-2018.8.24    | 139 KB    | ##################################### | 100% \nopenssl-1.0.2r       | 3.1 MB    | ##################################### | 100% \nca-certificates-2019 | 146 KB    | ##################################### | 100% \nPreparing transaction: done\nVerifying transaction: done\nExecuting transaction: done\n"
                }
            ], 
            "execution_count": 2
        }, 
        {
            "source": "from bs4 import BeautifulSoup #library for work with html\nprint('Soup is ready, ser!')", 
            "cell_type": "code", 
            "metadata": {}, 
            "outputs": [
                {
                    "output_type": "stream", 
                    "name": "stdout", 
                    "text": "Soup is ready, ser!\n"
                }
            ], 
            "execution_count": 16
        }, 
        {
            "source": "!conda install -c conda-forge lxml --yes #library for parsing html", 
            "cell_type": "code", 
            "metadata": {}, 
            "outputs": [
                {
                    "output_type": "stream", 
                    "name": "stdout", 
                    "text": "Solving environment: done\n\n## Package Plan ##\n\n  environment location: /opt/conda/envs/DSX-Python35\n\n  added / updated specs: \n    - lxml\n\n\nThe following packages will be downloaded:\n\n    package                    |            build\n    ---------------------------|-----------------\n    libxml2-2.9.9              |       h13577e0_0         2.0 MB  conda-forge\n    lxml-4.2.5                 |   py35hc9114bc_0         5.8 MB  conda-forge\n    libxslt-1.1.32             |    h4785a14_1002         539 KB  conda-forge\n    ------------------------------------------------------------\n                                           Total:         8.3 MB\n\nThe following packages will be UPDATED:\n\n    libxml2: 2.9.4-h6b072ca_5     --> 2.9.9-h13577e0_0     conda-forge\n    libxslt: 1.1.29-hcf9102b_5    --> 1.1.32-h4785a14_1002 conda-forge\n    lxml:    4.1.0-py35ha401a81_0 --> 4.2.5-py35hc9114bc_0 conda-forge\n\n\nDownloading and Extracting Packages\nlibxml2-2.9.9        | 2.0 MB    | ##################################### | 100% \nlxml-4.2.5           | 5.8 MB    | ##################################### | 100% \nlibxslt-1.1.32       | 539 KB    | ##################################### | 100% \nPreparing transaction: done\nVerifying transaction: done\nExecuting transaction: done\n"
                }
            ], 
            "execution_count": 4
        }, 
        {
            "source": "## 2. Grabbing the Table and parsing it to the DataFrame object \"data\"", 
            "cell_type": "markdown", 
            "metadata": {}
        }, 
        {
            "source": "#Get html to \"soup\"\nsource = requests.get('https://en.wikipedia.org/wiki/List_of_postal_codes_of_Canada:_M').text\n#source = requests.get('https://coreyms.com').text\nsoup = BeautifulSoup(source, 'lxml')", 
            "cell_type": "code", 
            "metadata": {}, 
            "outputs": [], 
            "execution_count": 17
        }, 
        {
            "source": "#Get table of postcodes to \"table\"\ntable = soup.find('table')", 
            "cell_type": "code", 
            "metadata": {}, 
            "outputs": [], 
            "execution_count": 18
        }, 
        {
            "source": "#Get headers by teg 'th'\nheaders = [col.text for col in table.find('tr').find_all('th')]\n\n#Get rows by teg 'tr'\nrows = table.find_all('tr')\n\n#Get values by teg 'td' inside rows\nvalues = [[cell.text for cell in row.find_all('td')] for row in rows]\ndata = pd.DataFrame(columns = headers, data = values)\ndata.head()", 
            "cell_type": "code", 
            "metadata": {}, 
            "outputs": [
                {
                    "output_type": "execute_result", 
                    "data": {
                        "text/plain": "  Postcode       Borough     Neighbourhood\\n\n0     None          None                None\n1      M1A  Not assigned      Not assigned\\n\n2      M2A  Not assigned      Not assigned\\n\n3      M3A    North York         Parkwoods\\n\n4      M4A    North York  Victoria Village\\n", 
                        "text/html": "<div>\n<style scoped>\n    .dataframe tbody tr th:only-of-type {\n        vertical-align: middle;\n    }\n\n    .dataframe tbody tr th {\n        vertical-align: top;\n    }\n\n    .dataframe thead th {\n        text-align: right;\n    }\n</style>\n<table border=\"1\" class=\"dataframe\">\n  <thead>\n    <tr style=\"text-align: right;\">\n      <th></th>\n      <th>Postcode</th>\n      <th>Borough</th>\n      <th>Neighbourhood</th>\n    </tr>\n  </thead>\n  <tbody>\n    <tr>\n      <th>0</th>\n      <td>None</td>\n      <td>None</td>\n      <td>None</td>\n    </tr>\n    <tr>\n      <th>1</th>\n      <td>M1A</td>\n      <td>Not assigned</td>\n      <td>Not assigned\\n</td>\n    </tr>\n    <tr>\n      <th>2</th>\n      <td>M2A</td>\n      <td>Not assigned</td>\n      <td>Not assigned\\n</td>\n    </tr>\n    <tr>\n      <th>3</th>\n      <td>M3A</td>\n      <td>North York</td>\n      <td>Parkwoods\\n</td>\n    </tr>\n    <tr>\n      <th>4</th>\n      <td>M4A</td>\n      <td>North York</td>\n      <td>Victoria Village\\n</td>\n    </tr>\n  </tbody>\n</table>\n</div>"
                    }, 
                    "execution_count": 19, 
                    "metadata": {}
                }
            ], 
            "execution_count": 19
        }, 
        {
            "source": "## 3. Data wrangling", 
            "cell_type": "markdown", 
            "metadata": {}
        }, 
        {
            "source": "# Drop the first \"None\" line\ndata.drop(index = 0, inplace = True)\ndata.reset_index(inplace = True, drop = True)\ndata.head()", 
            "cell_type": "code", 
            "metadata": {}, 
            "outputs": [
                {
                    "output_type": "execute_result", 
                    "data": {
                        "text/plain": "  Postcode           Borough     Neighbourhood\\n\n0      M1A      Not assigned      Not assigned\\n\n1      M2A      Not assigned      Not assigned\\n\n2      M3A        North York         Parkwoods\\n\n3      M4A        North York  Victoria Village\\n\n4      M5A  Downtown Toronto      Harbourfront\\n", 
                        "text/html": "<div>\n<style scoped>\n    .dataframe tbody tr th:only-of-type {\n        vertical-align: middle;\n    }\n\n    .dataframe tbody tr th {\n        vertical-align: top;\n    }\n\n    .dataframe thead th {\n        text-align: right;\n    }\n</style>\n<table border=\"1\" class=\"dataframe\">\n  <thead>\n    <tr style=\"text-align: right;\">\n      <th></th>\n      <th>Postcode</th>\n      <th>Borough</th>\n      <th>Neighbourhood</th>\n    </tr>\n  </thead>\n  <tbody>\n    <tr>\n      <th>0</th>\n      <td>M1A</td>\n      <td>Not assigned</td>\n      <td>Not assigned\\n</td>\n    </tr>\n    <tr>\n      <th>1</th>\n      <td>M2A</td>\n      <td>Not assigned</td>\n      <td>Not assigned\\n</td>\n    </tr>\n    <tr>\n      <th>2</th>\n      <td>M3A</td>\n      <td>North York</td>\n      <td>Parkwoods\\n</td>\n    </tr>\n    <tr>\n      <th>3</th>\n      <td>M4A</td>\n      <td>North York</td>\n      <td>Victoria Village\\n</td>\n    </tr>\n    <tr>\n      <th>4</th>\n      <td>M5A</td>\n      <td>Downtown Toronto</td>\n      <td>Harbourfront\\n</td>\n    </tr>\n  </tbody>\n</table>\n</div>"
                    }, 
                    "execution_count": 20, 
                    "metadata": {}
                }
            ], 
            "execution_count": 20
        }, 
        {
            "source": "#Replace \\n\ndata.columns = data.columns.str.replace('\\n','')\ndata['Neighbourhood'] = data['Neighbourhood'].str.replace('\\n','')\ndata.head()", 
            "cell_type": "code", 
            "metadata": {}, 
            "outputs": [
                {
                    "output_type": "execute_result", 
                    "data": {
                        "text/plain": "  Postcode           Borough     Neighbourhood\n0      M1A      Not assigned      Not assigned\n1      M2A      Not assigned      Not assigned\n2      M3A        North York         Parkwoods\n3      M4A        North York  Victoria Village\n4      M5A  Downtown Toronto      Harbourfront", 
                        "text/html": "<div>\n<style scoped>\n    .dataframe tbody tr th:only-of-type {\n        vertical-align: middle;\n    }\n\n    .dataframe tbody tr th {\n        vertical-align: top;\n    }\n\n    .dataframe thead th {\n        text-align: right;\n    }\n</style>\n<table border=\"1\" class=\"dataframe\">\n  <thead>\n    <tr style=\"text-align: right;\">\n      <th></th>\n      <th>Postcode</th>\n      <th>Borough</th>\n      <th>Neighbourhood</th>\n    </tr>\n  </thead>\n  <tbody>\n    <tr>\n      <th>0</th>\n      <td>M1A</td>\n      <td>Not assigned</td>\n      <td>Not assigned</td>\n    </tr>\n    <tr>\n      <th>1</th>\n      <td>M2A</td>\n      <td>Not assigned</td>\n      <td>Not assigned</td>\n    </tr>\n    <tr>\n      <th>2</th>\n      <td>M3A</td>\n      <td>North York</td>\n      <td>Parkwoods</td>\n    </tr>\n    <tr>\n      <th>3</th>\n      <td>M4A</td>\n      <td>North York</td>\n      <td>Victoria Village</td>\n    </tr>\n    <tr>\n      <th>4</th>\n      <td>M5A</td>\n      <td>Downtown Toronto</td>\n      <td>Harbourfront</td>\n    </tr>\n  </tbody>\n</table>\n</div>"
                    }, 
                    "execution_count": 21, 
                    "metadata": {}
                }
            ], 
            "execution_count": 21
        }, 
        {
            "source": "#Drop rows with 'Not assigned' Borough\ndata = data.loc[data['Borough'] != 'Not assigned']\ndata.reset_index(inplace = True, drop = True)\ndata.head(15)", 
            "cell_type": "code", 
            "metadata": {}, 
            "outputs": [
                {
                    "output_type": "execute_result", 
                    "data": {
                        "text/plain": "   Postcode           Borough     Neighbourhood\n0       M3A        North York         Parkwoods\n1       M4A        North York  Victoria Village\n2       M5A  Downtown Toronto      Harbourfront\n3       M5A  Downtown Toronto       Regent Park\n4       M6A        North York  Lawrence Heights\n5       M6A        North York    Lawrence Manor\n6       M7A      Queen's Park      Not assigned\n7       M9A         Etobicoke  Islington Avenue\n8       M1B       Scarborough             Rouge\n9       M1B       Scarborough           Malvern\n10      M3B        North York   Don Mills North\n11      M4B         East York  Woodbine Gardens\n12      M4B         East York     Parkview Hill\n13      M5B  Downtown Toronto           Ryerson\n14      M5B  Downtown Toronto   Garden District", 
                        "text/html": "<div>\n<style scoped>\n    .dataframe tbody tr th:only-of-type {\n        vertical-align: middle;\n    }\n\n    .dataframe tbody tr th {\n        vertical-align: top;\n    }\n\n    .dataframe thead th {\n        text-align: right;\n    }\n</style>\n<table border=\"1\" class=\"dataframe\">\n  <thead>\n    <tr style=\"text-align: right;\">\n      <th></th>\n      <th>Postcode</th>\n      <th>Borough</th>\n      <th>Neighbourhood</th>\n    </tr>\n  </thead>\n  <tbody>\n    <tr>\n      <th>0</th>\n      <td>M3A</td>\n      <td>North York</td>\n      <td>Parkwoods</td>\n    </tr>\n    <tr>\n      <th>1</th>\n      <td>M4A</td>\n      <td>North York</td>\n      <td>Victoria Village</td>\n    </tr>\n    <tr>\n      <th>2</th>\n      <td>M5A</td>\n      <td>Downtown Toronto</td>\n      <td>Harbourfront</td>\n    </tr>\n    <tr>\n      <th>3</th>\n      <td>M5A</td>\n      <td>Downtown Toronto</td>\n      <td>Regent Park</td>\n    </tr>\n    <tr>\n      <th>4</th>\n      <td>M6A</td>\n      <td>North York</td>\n      <td>Lawrence Heights</td>\n    </tr>\n    <tr>\n      <th>5</th>\n      <td>M6A</td>\n      <td>North York</td>\n      <td>Lawrence Manor</td>\n    </tr>\n    <tr>\n      <th>6</th>\n      <td>M7A</td>\n      <td>Queen's Park</td>\n      <td>Not assigned</td>\n    </tr>\n    <tr>\n      <th>7</th>\n      <td>M9A</td>\n      <td>Etobicoke</td>\n      <td>Islington Avenue</td>\n    </tr>\n    <tr>\n      <th>8</th>\n      <td>M1B</td>\n      <td>Scarborough</td>\n      <td>Rouge</td>\n    </tr>\n    <tr>\n      <th>9</th>\n      <td>M1B</td>\n      <td>Scarborough</td>\n      <td>Malvern</td>\n    </tr>\n    <tr>\n      <th>10</th>\n      <td>M3B</td>\n      <td>North York</td>\n      <td>Don Mills North</td>\n    </tr>\n    <tr>\n      <th>11</th>\n      <td>M4B</td>\n      <td>East York</td>\n      <td>Woodbine Gardens</td>\n    </tr>\n    <tr>\n      <th>12</th>\n      <td>M4B</td>\n      <td>East York</td>\n      <td>Parkview Hill</td>\n    </tr>\n    <tr>\n      <th>13</th>\n      <td>M5B</td>\n      <td>Downtown Toronto</td>\n      <td>Ryerson</td>\n    </tr>\n    <tr>\n      <th>14</th>\n      <td>M5B</td>\n      <td>Downtown Toronto</td>\n      <td>Garden District</td>\n    </tr>\n  </tbody>\n</table>\n</div>"
                    }, 
                    "execution_count": 22, 
                    "metadata": {}
                }
            ], 
            "execution_count": 22
        }, 
        {
            "source": "#Rename 'Not assigned' Neighbourhood with name of Borough\ndata.loc[data['Neighbourhood'] == 'Not assigned', 'Neighbourhood'] = data.loc[data['Neighbourhood'] == 'Not assigned', 'Borough']\ndata.head(10)", 
            "cell_type": "code", 
            "metadata": {}, 
            "outputs": [
                {
                    "output_type": "execute_result", 
                    "data": {
                        "text/plain": "  Postcode           Borough     Neighbourhood\n0      M3A        North York         Parkwoods\n1      M4A        North York  Victoria Village\n2      M5A  Downtown Toronto      Harbourfront\n3      M5A  Downtown Toronto       Regent Park\n4      M6A        North York  Lawrence Heights\n5      M6A        North York    Lawrence Manor\n6      M7A      Queen's Park      Queen's Park\n7      M9A         Etobicoke  Islington Avenue\n8      M1B       Scarborough             Rouge\n9      M1B       Scarborough           Malvern", 
                        "text/html": "<div>\n<style scoped>\n    .dataframe tbody tr th:only-of-type {\n        vertical-align: middle;\n    }\n\n    .dataframe tbody tr th {\n        vertical-align: top;\n    }\n\n    .dataframe thead th {\n        text-align: right;\n    }\n</style>\n<table border=\"1\" class=\"dataframe\">\n  <thead>\n    <tr style=\"text-align: right;\">\n      <th></th>\n      <th>Postcode</th>\n      <th>Borough</th>\n      <th>Neighbourhood</th>\n    </tr>\n  </thead>\n  <tbody>\n    <tr>\n      <th>0</th>\n      <td>M3A</td>\n      <td>North York</td>\n      <td>Parkwoods</td>\n    </tr>\n    <tr>\n      <th>1</th>\n      <td>M4A</td>\n      <td>North York</td>\n      <td>Victoria Village</td>\n    </tr>\n    <tr>\n      <th>2</th>\n      <td>M5A</td>\n      <td>Downtown Toronto</td>\n      <td>Harbourfront</td>\n    </tr>\n    <tr>\n      <th>3</th>\n      <td>M5A</td>\n      <td>Downtown Toronto</td>\n      <td>Regent Park</td>\n    </tr>\n    <tr>\n      <th>4</th>\n      <td>M6A</td>\n      <td>North York</td>\n      <td>Lawrence Heights</td>\n    </tr>\n    <tr>\n      <th>5</th>\n      <td>M6A</td>\n      <td>North York</td>\n      <td>Lawrence Manor</td>\n    </tr>\n    <tr>\n      <th>6</th>\n      <td>M7A</td>\n      <td>Queen's Park</td>\n      <td>Queen's Park</td>\n    </tr>\n    <tr>\n      <th>7</th>\n      <td>M9A</td>\n      <td>Etobicoke</td>\n      <td>Islington Avenue</td>\n    </tr>\n    <tr>\n      <th>8</th>\n      <td>M1B</td>\n      <td>Scarborough</td>\n      <td>Rouge</td>\n    </tr>\n    <tr>\n      <th>9</th>\n      <td>M1B</td>\n      <td>Scarborough</td>\n      <td>Malvern</td>\n    </tr>\n  </tbody>\n</table>\n</div>"
                    }, 
                    "execution_count": 23, 
                    "metadata": {}
                }
            ], 
            "execution_count": 23
        }, 
        {
            "source": "data.sort_values(by=['Postcode'], inplace=True)\ndata.reset_index(inplace = True, drop = True)\ndata.head(10)", 
            "cell_type": "code", 
            "metadata": {}, 
            "outputs": [
                {
                    "output_type": "execute_result", 
                    "data": {
                        "text/plain": "  Postcode      Borough   Neighbourhood\n0      M1B  Scarborough           Rouge\n1      M1B  Scarborough         Malvern\n2      M1C  Scarborough      Port Union\n3      M1C  Scarborough      Rouge Hill\n4      M1C  Scarborough  Highland Creek\n5      M1E  Scarborough       Guildwood\n6      M1E  Scarborough     Morningside\n7      M1E  Scarborough       West Hill\n8      M1G  Scarborough          Woburn\n9      M1H  Scarborough       Cedarbrae", 
                        "text/html": "<div>\n<style scoped>\n    .dataframe tbody tr th:only-of-type {\n        vertical-align: middle;\n    }\n\n    .dataframe tbody tr th {\n        vertical-align: top;\n    }\n\n    .dataframe thead th {\n        text-align: right;\n    }\n</style>\n<table border=\"1\" class=\"dataframe\">\n  <thead>\n    <tr style=\"text-align: right;\">\n      <th></th>\n      <th>Postcode</th>\n      <th>Borough</th>\n      <th>Neighbourhood</th>\n    </tr>\n  </thead>\n  <tbody>\n    <tr>\n      <th>0</th>\n      <td>M1B</td>\n      <td>Scarborough</td>\n      <td>Rouge</td>\n    </tr>\n    <tr>\n      <th>1</th>\n      <td>M1B</td>\n      <td>Scarborough</td>\n      <td>Malvern</td>\n    </tr>\n    <tr>\n      <th>2</th>\n      <td>M1C</td>\n      <td>Scarborough</td>\n      <td>Port Union</td>\n    </tr>\n    <tr>\n      <th>3</th>\n      <td>M1C</td>\n      <td>Scarborough</td>\n      <td>Rouge Hill</td>\n    </tr>\n    <tr>\n      <th>4</th>\n      <td>M1C</td>\n      <td>Scarborough</td>\n      <td>Highland Creek</td>\n    </tr>\n    <tr>\n      <th>5</th>\n      <td>M1E</td>\n      <td>Scarborough</td>\n      <td>Guildwood</td>\n    </tr>\n    <tr>\n      <th>6</th>\n      <td>M1E</td>\n      <td>Scarborough</td>\n      <td>Morningside</td>\n    </tr>\n    <tr>\n      <th>7</th>\n      <td>M1E</td>\n      <td>Scarborough</td>\n      <td>West Hill</td>\n    </tr>\n    <tr>\n      <th>8</th>\n      <td>M1G</td>\n      <td>Scarborough</td>\n      <td>Woburn</td>\n    </tr>\n    <tr>\n      <th>9</th>\n      <td>M1H</td>\n      <td>Scarborough</td>\n      <td>Cedarbrae</td>\n    </tr>\n  </tbody>\n</table>\n</div>"
                    }, 
                    "execution_count": 24, 
                    "metadata": {}
                }
            ], 
            "execution_count": 24
        }, 
        {
            "source": "#Concatinating rows with the same Postcode\nind = 1\nwhile ind < len(data):\n    if (data.loc[ind, 'Postcode']==data.loc[ind-1, 'Postcode']):\n        data.loc[ind-1, 'Neighbourhood'] = data.loc[ind-1, 'Neighbourhood']+', '+ data.loc[ind, 'Neighbourhood']\n        data.drop(ind, inplace = True)\n        data.reset_index(inplace = True, drop = True)\n    else:\n        ind += 1\ndata.head()", 
            "cell_type": "code", 
            "metadata": {}, 
            "outputs": [
                {
                    "output_type": "execute_result", 
                    "data": {
                        "text/plain": "  Postcode      Borough                           Neighbourhood\n0      M1B  Scarborough                          Rouge, Malvern\n1      M1C  Scarborough  Port Union, Rouge Hill, Highland Creek\n2      M1E  Scarborough       Guildwood, Morningside, West Hill\n3      M1G  Scarborough                                  Woburn\n4      M1H  Scarborough                               Cedarbrae", 
                        "text/html": "<div>\n<style scoped>\n    .dataframe tbody tr th:only-of-type {\n        vertical-align: middle;\n    }\n\n    .dataframe tbody tr th {\n        vertical-align: top;\n    }\n\n    .dataframe thead th {\n        text-align: right;\n    }\n</style>\n<table border=\"1\" class=\"dataframe\">\n  <thead>\n    <tr style=\"text-align: right;\">\n      <th></th>\n      <th>Postcode</th>\n      <th>Borough</th>\n      <th>Neighbourhood</th>\n    </tr>\n  </thead>\n  <tbody>\n    <tr>\n      <th>0</th>\n      <td>M1B</td>\n      <td>Scarborough</td>\n      <td>Rouge, Malvern</td>\n    </tr>\n    <tr>\n      <th>1</th>\n      <td>M1C</td>\n      <td>Scarborough</td>\n      <td>Port Union, Rouge Hill, Highland Creek</td>\n    </tr>\n    <tr>\n      <th>2</th>\n      <td>M1E</td>\n      <td>Scarborough</td>\n      <td>Guildwood, Morningside, West Hill</td>\n    </tr>\n    <tr>\n      <th>3</th>\n      <td>M1G</td>\n      <td>Scarborough</td>\n      <td>Woburn</td>\n    </tr>\n    <tr>\n      <th>4</th>\n      <td>M1H</td>\n      <td>Scarborough</td>\n      <td>Cedarbrae</td>\n    </tr>\n  </tbody>\n</table>\n</div>"
                    }, 
                    "execution_count": 25, 
                    "metadata": {}
                }
            ], 
            "execution_count": 25
        }, 
        {
            "source": "data.shape", 
            "cell_type": "code", 
            "metadata": {}, 
            "outputs": [
                {
                    "output_type": "execute_result", 
                    "data": {
                        "text/plain": "(103, 3)"
                    }, 
                    "execution_count": 26, 
                    "metadata": {}
                }
            ], 
            "execution_count": 26
        }, 
        {
            "source": "# Part II. Adding the latitude and the longtitude to the Data", 
            "cell_type": "markdown", 
            "metadata": {}
        }, 
        {
            "source": "#load csv file with coodrinates to a DataFrame object \"data_ll\"\ndata_ll = pd.read_csv('http://cocl.us/Geospatial_data')\ndata_ll.head(10)", 
            "cell_type": "code", 
            "metadata": {}, 
            "outputs": [
                {
                    "output_type": "execute_result", 
                    "data": {
                        "text/plain": "  Postal Code   Latitude  Longitude\n0         M1B  43.806686 -79.194353\n1         M1C  43.784535 -79.160497\n2         M1E  43.763573 -79.188711\n3         M1G  43.770992 -79.216917\n4         M1H  43.773136 -79.239476\n5         M1J  43.744734 -79.239476\n6         M1K  43.727929 -79.262029\n7         M1L  43.711112 -79.284577\n8         M1M  43.716316 -79.239476\n9         M1N  43.692657 -79.264848", 
                        "text/html": "<div>\n<style scoped>\n    .dataframe tbody tr th:only-of-type {\n        vertical-align: middle;\n    }\n\n    .dataframe tbody tr th {\n        vertical-align: top;\n    }\n\n    .dataframe thead th {\n        text-align: right;\n    }\n</style>\n<table border=\"1\" class=\"dataframe\">\n  <thead>\n    <tr style=\"text-align: right;\">\n      <th></th>\n      <th>Postal Code</th>\n      <th>Latitude</th>\n      <th>Longitude</th>\n    </tr>\n  </thead>\n  <tbody>\n    <tr>\n      <th>0</th>\n      <td>M1B</td>\n      <td>43.806686</td>\n      <td>-79.194353</td>\n    </tr>\n    <tr>\n      <th>1</th>\n      <td>M1C</td>\n      <td>43.784535</td>\n      <td>-79.160497</td>\n    </tr>\n    <tr>\n      <th>2</th>\n      <td>M1E</td>\n      <td>43.763573</td>\n      <td>-79.188711</td>\n    </tr>\n    <tr>\n      <th>3</th>\n      <td>M1G</td>\n      <td>43.770992</td>\n      <td>-79.216917</td>\n    </tr>\n    <tr>\n      <th>4</th>\n      <td>M1H</td>\n      <td>43.773136</td>\n      <td>-79.239476</td>\n    </tr>\n    <tr>\n      <th>5</th>\n      <td>M1J</td>\n      <td>43.744734</td>\n      <td>-79.239476</td>\n    </tr>\n    <tr>\n      <th>6</th>\n      <td>M1K</td>\n      <td>43.727929</td>\n      <td>-79.262029</td>\n    </tr>\n    <tr>\n      <th>7</th>\n      <td>M1L</td>\n      <td>43.711112</td>\n      <td>-79.284577</td>\n    </tr>\n    <tr>\n      <th>8</th>\n      <td>M1M</td>\n      <td>43.716316</td>\n      <td>-79.239476</td>\n    </tr>\n    <tr>\n      <th>9</th>\n      <td>M1N</td>\n      <td>43.692657</td>\n      <td>-79.264848</td>\n    </tr>\n  </tbody>\n</table>\n</div>"
                    }, 
                    "execution_count": 27, 
                    "metadata": {}
                }
            ], 
            "execution_count": 27
        }, 
        {
            "source": "#Preparing data for merging\ndata_ll.rename(columns={'Postal Code':'Postcode'}, inplace = True)\nprint(data_ll.columns)\nprint(data.columns)", 
            "cell_type": "code", 
            "metadata": {}, 
            "outputs": [
                {
                    "output_type": "stream", 
                    "name": "stdout", 
                    "text": "Index(['Postcode', 'Latitude', 'Longitude'], dtype='object')\nIndex(['Postcode', 'Borough', 'Neighbourhood', 'Latitude', 'Longitude'], dtype='object')\n"
                }
            ], 
            "execution_count": 31
        }, 
        {
            "source": "#Mergind datas on Postcode\ndata = data.merge(data_ll, on='Postcode')\ndata.head(10) ", 
            "cell_type": "code", 
            "metadata": {}, 
            "outputs": [
                {
                    "output_type": "execute_result", 
                    "data": {
                        "text/plain": "  Postcode      Borough                                    Neighbourhood  \\\n0      M1B  Scarborough                                   Rouge, Malvern   \n1      M1C  Scarborough           Port Union, Rouge Hill, Highland Creek   \n2      M1E  Scarborough                Guildwood, Morningside, West Hill   \n3      M1G  Scarborough                                           Woburn   \n4      M1H  Scarborough                                        Cedarbrae   \n5      M1J  Scarborough                              Scarborough Village   \n6      M1K  Scarborough      East Birchmount Park, Ionview, Kennedy Park   \n7      M1L  Scarborough                  Golden Mile, Oakridge, Clairlea   \n8      M1M  Scarborough  Cliffcrest, Scarborough Village West, Cliffside   \n9      M1N  Scarborough                      Cliffside West, Birch Cliff   \n\n    Latitude  Longitude  \n0  43.806686 -79.194353  \n1  43.784535 -79.160497  \n2  43.763573 -79.188711  \n3  43.770992 -79.216917  \n4  43.773136 -79.239476  \n5  43.744734 -79.239476  \n6  43.727929 -79.262029  \n7  43.711112 -79.284577  \n8  43.716316 -79.239476  \n9  43.692657 -79.264848  ", 
                        "text/html": "<div>\n<style scoped>\n    .dataframe tbody tr th:only-of-type {\n        vertical-align: middle;\n    }\n\n    .dataframe tbody tr th {\n        vertical-align: top;\n    }\n\n    .dataframe thead th {\n        text-align: right;\n    }\n</style>\n<table border=\"1\" class=\"dataframe\">\n  <thead>\n    <tr style=\"text-align: right;\">\n      <th></th>\n      <th>Postcode</th>\n      <th>Borough</th>\n      <th>Neighbourhood</th>\n      <th>Latitude</th>\n      <th>Longitude</th>\n    </tr>\n  </thead>\n  <tbody>\n    <tr>\n      <th>0</th>\n      <td>M1B</td>\n      <td>Scarborough</td>\n      <td>Rouge, Malvern</td>\n      <td>43.806686</td>\n      <td>-79.194353</td>\n    </tr>\n    <tr>\n      <th>1</th>\n      <td>M1C</td>\n      <td>Scarborough</td>\n      <td>Port Union, Rouge Hill, Highland Creek</td>\n      <td>43.784535</td>\n      <td>-79.160497</td>\n    </tr>\n    <tr>\n      <th>2</th>\n      <td>M1E</td>\n      <td>Scarborough</td>\n      <td>Guildwood, Morningside, West Hill</td>\n      <td>43.763573</td>\n      <td>-79.188711</td>\n    </tr>\n    <tr>\n      <th>3</th>\n      <td>M1G</td>\n      <td>Scarborough</td>\n      <td>Woburn</td>\n      <td>43.770992</td>\n      <td>-79.216917</td>\n    </tr>\n    <tr>\n      <th>4</th>\n      <td>M1H</td>\n      <td>Scarborough</td>\n      <td>Cedarbrae</td>\n      <td>43.773136</td>\n      <td>-79.239476</td>\n    </tr>\n    <tr>\n      <th>5</th>\n      <td>M1J</td>\n      <td>Scarborough</td>\n      <td>Scarborough Village</td>\n      <td>43.744734</td>\n      <td>-79.239476</td>\n    </tr>\n    <tr>\n      <th>6</th>\n      <td>M1K</td>\n      <td>Scarborough</td>\n      <td>East Birchmount Park, Ionview, Kennedy Park</td>\n      <td>43.727929</td>\n      <td>-79.262029</td>\n    </tr>\n    <tr>\n      <th>7</th>\n      <td>M1L</td>\n      <td>Scarborough</td>\n      <td>Golden Mile, Oakridge, Clairlea</td>\n      <td>43.711112</td>\n      <td>-79.284577</td>\n    </tr>\n    <tr>\n      <th>8</th>\n      <td>M1M</td>\n      <td>Scarborough</td>\n      <td>Cliffcrest, Scarborough Village West, Cliffside</td>\n      <td>43.716316</td>\n      <td>-79.239476</td>\n    </tr>\n    <tr>\n      <th>9</th>\n      <td>M1N</td>\n      <td>Scarborough</td>\n      <td>Cliffside West, Birch Cliff</td>\n      <td>43.692657</td>\n      <td>-79.264848</td>\n    </tr>\n  </tbody>\n</table>\n</div>"
                    }, 
                    "execution_count": 30, 
                    "metadata": {}
                }
            ], 
            "execution_count": 30
        }, 
        {
            "source": "", 
            "cell_type": "code", 
            "metadata": {}, 
            "outputs": [], 
            "execution_count": null
        }
    ], 
    "metadata": {
        "kernelspec": {
            "display_name": "Python 3.5", 
            "name": "python3", 
            "language": "python"
        }, 
        "language_info": {
            "mimetype": "text/x-python", 
            "nbconvert_exporter": "python", 
            "version": "3.5.5", 
            "name": "python", 
            "file_extension": ".py", 
            "pygments_lexer": "ipython3", 
            "codemirror_mode": {
                "version": 3, 
                "name": "ipython"
            }
        }
    }, 
    "nbformat": 4
}